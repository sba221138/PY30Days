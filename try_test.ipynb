{
 "cells": [
  {
   "cell_type": "code",
   "execution_count": 31,
   "id": "0de6cdf6",
   "metadata": {},
   "outputs": [
    {
     "name": "stdout",
     "output_type": "stream",
     "text": [
      "do something\n",
      "執行時間 3.011481285095215\n"
     ]
    }
   ],
   "source": [
    "# 近一步把函式封裝成裝飾器\n",
    "\n",
    "import time\n",
    "\n",
    "def cal_time(func):\n",
    "    def wrap():\n",
    "        start = time.time()\n",
    "        func()\n",
    "        print('執行時間', time.time()-start)\n",
    "    return wrap\n",
    "\n",
    "def do():\n",
    "    print(\"do something\")\n",
    "    time.sleep(3)\n",
    "    return \"end \"\n",
    "\n",
    "do = cal_time(do)\n",
    "do()"
   ]
  },
  {
   "cell_type": "code",
   "execution_count": 23,
   "id": "5a897eec",
   "metadata": {},
   "outputs": [
    {
     "name": "stdout",
     "output_type": "stream",
     "text": [
      "do something\n",
      "執行時間 3.000483512878418\n"
     ]
    }
   ],
   "source": [
    "# 把共同的程式碼封裝成函式\n",
    "\n",
    "import time\n",
    "\n",
    "def cal_time(func):\n",
    "    start = time.time()\n",
    "    func()\n",
    "    print(\"執行時間\", time.time()-start)\n",
    "    return\n",
    "\n",
    "def do():\n",
    "    print(\"do something\")\n",
    "    time.sleep(3)\n",
    "    return\n",
    "\n",
    "cal_time(do)"
   ]
  },
  {
   "cell_type": "code",
   "execution_count": 33,
   "id": "95cd1996",
   "metadata": {},
   "outputs": [
    {
     "name": "stdout",
     "output_type": "stream",
     "text": [
      "do something\n",
      "執行時間 3.0010948181152344\n"
     ]
    }
   ],
   "source": [
    "import time\n",
    "def cal_time(func):\n",
    "    def wrap():\n",
    "        start = time.time()\n",
    "        func()\n",
    "        print('執行時間', time.time()-start)\n",
    "    return wrap\n",
    "\n",
    "@cal_time\n",
    "def do():\n",
    "    print(\"do something\")\n",
    "    time.sleep(3)\n",
    "    return \"end time\"\n",
    "\n",
    "do()"
   ]
  },
  {
   "cell_type": "code",
   "execution_count": null,
   "id": "d9519fef",
   "metadata": {},
   "outputs": [],
   "source": []
  }
 ],
 "metadata": {
  "kernelspec": {
   "display_name": "Python 3",
   "language": "python",
   "name": "python3"
  },
  "language_info": {
   "codemirror_mode": {
    "name": "ipython",
    "version": 3
   },
   "file_extension": ".py",
   "mimetype": "text/x-python",
   "name": "python",
   "nbconvert_exporter": "python",
   "pygments_lexer": "ipython3",
   "version": "3.8.8"
  }
 },
 "nbformat": 4,
 "nbformat_minor": 5
}
