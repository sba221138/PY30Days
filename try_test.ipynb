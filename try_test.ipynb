{
 "cells": [
  {
   "cell_type": "code",
   "execution_count": 27,
   "id": "62bb7c6e",
   "metadata": {},
   "outputs": [],
   "source": [
    "d = dict() # {}\n",
    "d = {'Mark': 1, 'test': 0}\n",
    "# {'Mark': 1, 'test': 0}\n",
    "\n",
    "d['Mark'] # 1\n",
    "d['Mary'] = 2 # {'Mark': 1, 'test': 0, 'Mary': 2}\n",
    "del d['test'] # {'Mark': 1, Mary': 2}"
   ]
  },
  {
   "cell_type": "code",
   "execution_count": 28,
   "id": "9d7c2ae4",
   "metadata": {},
   "outputs": [
    {
     "data": {
      "text/plain": [
       "{'Mark': 1, 'Mary': 2}"
      ]
     },
     "execution_count": 28,
     "metadata": {},
     "output_type": "execute_result"
    }
   ],
   "source": [
    "d"
   ]
  },
  {
   "cell_type": "code",
   "execution_count": 35,
   "id": "42af494e",
   "metadata": {},
   "outputs": [],
   "source": [
    "items_d = d.items() \n",
    "# dict_items([('Mark', 1), ('Mary', 2) ])\n",
    "\n",
    "keys_d = d.keys() \n",
    "# dict_keys(['Mark', 'Mary'])\n",
    "\n",
    "values_d = d.values() \n",
    "# dict_values([1, 2])"
   ]
  },
  {
   "cell_type": "code",
   "execution_count": 52,
   "id": "646111a8",
   "metadata": {},
   "outputs": [
    {
     "data": {
      "text/plain": [
       "(330, {'Mark': 1, 'Mary': 2, 'Tom': 330})"
      ]
     },
     "execution_count": 52,
     "metadata": {},
     "output_type": "execute_result"
    }
   ],
   "source": [
    "d.get('Tom',330),d\n",
    "# '', {'Mark': 1, 'test': 0}"
   ]
  },
  {
   "cell_type": "code",
   "execution_count": 53,
   "id": "cfab82ae",
   "metadata": {},
   "outputs": [
    {
     "data": {
      "text/plain": [
       "(330, {'Mark': 1, 'Mary': 2, 'Tom': 330})"
      ]
     },
     "execution_count": 53,
     "metadata": {},
     "output_type": "execute_result"
    }
   ],
   "source": [
    "d.setdefault('Tom', 3), d \n",
    "# 3, {'Tom': 3, 'Mark': 1, 'test': 0}"
   ]
  },
  {
   "cell_type": "code",
   "execution_count": null,
   "id": "0de6cdf6",
   "metadata": {},
   "outputs": [],
   "source": []
  }
 ],
 "metadata": {
  "kernelspec": {
   "display_name": "Python 3",
   "language": "python",
   "name": "python3"
  },
  "language_info": {
   "codemirror_mode": {
    "name": "ipython",
    "version": 3
   },
   "file_extension": ".py",
   "mimetype": "text/x-python",
   "name": "python",
   "nbconvert_exporter": "python",
   "pygments_lexer": "ipython3",
   "version": "3.8.8"
  }
 },
 "nbformat": 4,
 "nbformat_minor": 5
}
