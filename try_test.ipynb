{
 "cells": [
  {
   "cell_type": "code",
   "execution_count": 1,
   "id": "0de6cdf6",
   "metadata": {},
   "outputs": [],
   "source": [
    "class MyClass: \n",
    "    def __init__(self, name):\n",
    "        self.name = name\n",
    "    def f(self): \n",
    "        return 'hello %s' % (self.name)"
   ]
  },
  {
   "cell_type": "code",
   "execution_count": 2,
   "id": "5a897eec",
   "metadata": {},
   "outputs": [
    {
     "name": "stdout",
     "output_type": "stream",
     "text": [
      "hello\n",
      "hello hello\n"
     ]
    }
   ],
   "source": [
    "x = MyClass('hello')\n",
    "print(x.name)\n",
    "print(x.f())"
   ]
  },
  {
   "cell_type": "code",
   "execution_count": 3,
   "id": "95cd1996",
   "metadata": {},
   "outputs": [
    {
     "name": "stdout",
     "output_type": "stream",
     "text": [
      "world\n",
      "hello world\n"
     ]
    }
   ],
   "source": [
    "y = MyClass('world')\n",
    "print(y.name)\n",
    "print(y.f())"
   ]
  },
  {
   "cell_type": "code",
   "execution_count": null,
   "id": "d9519fef",
   "metadata": {},
   "outputs": [],
   "source": []
  }
 ],
 "metadata": {
  "kernelspec": {
   "display_name": "Python 3",
   "language": "python",
   "name": "python3"
  },
  "language_info": {
   "codemirror_mode": {
    "name": "ipython",
    "version": 3
   },
   "file_extension": ".py",
   "mimetype": "text/x-python",
   "name": "python",
   "nbconvert_exporter": "python",
   "pygments_lexer": "ipython3",
   "version": "3.8.8"
  }
 },
 "nbformat": 4,
 "nbformat_minor": 5
}
