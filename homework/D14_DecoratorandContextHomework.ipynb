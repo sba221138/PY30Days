{
 "cells": [
  {
   "cell_type": "markdown",
   "metadata": {
    "colab_type": "text",
    "id": "P6xk2_jLsvFF"
   },
   "source": [
    "# [作業目標]\n",
    "\n",
    "\n",
    "1. [簡答題] 請列舉幾個可以用 decorator 或 context 使用的情境？\n",
    "\n",
    "2. 如何使用 decorator 讓程式執行 foo(...) 前執行 a(...)、b(...) 兩段程式：\n",
    "\n",
    "```\n",
    "def a(f):\n",
    "    print('a() is called')\n",
    "    return\n",
    "\n",
    "def b(f):\n",
    "    print('b() is called')\n",
    "    return\n",
    "\n",
    "def f():\n",
    "    return \"hello world\"\n",
    "```\n",
    "\n"
   ]
  },
  {
   "cell_type": "markdown",
   "metadata": {
    "colab_type": "text",
    "id": "uXGll28asvFS"
   },
   "source": [
    "# 作業 "
   ]
  },
  {
   "cell_type": "markdown",
   "metadata": {},
   "source": [
    "### 1. [簡答題] 請列舉幾個可以用 decorator 或 context 使用的情境？\n"
   ]
  },
  {
   "cell_type": "code",
   "execution_count": 9,
   "metadata": {},
   "outputs": [
    {
     "data": {
      "text/plain": [
       "'\\nYour Code\\n'"
      ]
     },
     "execution_count": 9,
     "metadata": {},
     "output_type": "execute_result"
    }
   ],
   "source": [
    "'''\n",
    "Your Code\n",
    "'''"
   ]
  },
  {
   "cell_type": "markdown",
   "metadata": {},
   "source": [
    "### decorator\n",
    "\n",
    "不想改動原先函式，再追加新的功能上去時\n",
    "\n",
    "### context\n",
    "\n",
    "避免忘記關閉file IO 資源的時很適合"
   ]
  },
  {
   "cell_type": "markdown",
   "metadata": {},
   "source": [
    "### 2. 如何使用 decorator 讓程式執行 foo(...) 前執行 a(...)、b(...) 兩段程式：\n",
    "\n",
    "```\n",
    "def a(f):\n",
    "    print('a() is called')\n",
    "    return\n",
    "\n",
    "def b(f):\n",
    "    print('b() is called')\n",
    "    return\n",
    "\n",
    "def f():\n",
    "    return \"hello world\"\n",
    "```"
   ]
  },
  {
   "cell_type": "code",
   "execution_count": 9,
   "metadata": {},
   "outputs": [
    {
     "name": "stdout",
     "output_type": "stream",
     "text": [
      "a() is called\n",
      "b() is called\n"
     ]
    },
    {
     "data": {
      "text/plain": [
       "'hello world'"
      ]
     },
     "execution_count": 9,
     "metadata": {},
     "output_type": "execute_result"
    }
   ],
   "source": [
    "'''\n",
    "Your Code\n",
    "'''\n",
    "\n",
    "def a(f):\n",
    "    def temp():\n",
    "        print('a() is called')\n",
    "        return f()\n",
    "    return temp\n",
    "\n",
    "def b(f):\n",
    "    def temp():\n",
    "        print('b() is called')\n",
    "        return f()\n",
    "    return temp\n",
    "\n",
    "@ a\n",
    "@ b\n",
    "def f():\n",
    "    return \"hello world\"\n",
    "\n",
    "f()"
   ]
  },
  {
   "cell_type": "code",
   "execution_count": null,
   "metadata": {},
   "outputs": [],
   "source": []
  },
  {
   "cell_type": "code",
   "execution_count": null,
   "metadata": {},
   "outputs": [],
   "source": []
  }
 ],
 "metadata": {
  "colab": {
   "name": "Day_023_HW.ipynb",
   "provenance": []
  },
  "kernelspec": {
   "display_name": "Python 3",
   "language": "python",
   "name": "python3"
  },
  "language_info": {
   "codemirror_mode": {
    "name": "ipython",
    "version": 3
   },
   "file_extension": ".py",
   "mimetype": "text/x-python",
   "name": "python",
   "nbconvert_exporter": "python",
   "pygments_lexer": "ipython3",
   "version": "3.8.8"
  }
 },
 "nbformat": 4,
 "nbformat_minor": 1
}
