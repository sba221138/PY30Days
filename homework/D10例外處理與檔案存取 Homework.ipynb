{
 "cells": [
  {
   "cell_type": "markdown",
   "metadata": {
    "colab_type": "text",
    "id": "P6xk2_jLsvFF"
   },
   "source": [
    "# [作業目標]\n",
    "\n",
    "1. 請判斷下列的這幾種錯誤訊息發生的原因為何？\n",
    "\n",
    "```\n",
    "10 * (1/0)\n",
    "# Traceback (most recent call last):\n",
    "#   File \"<stdin>\", line 1, in <module>ZeroDivisionError: division by zero\n",
    "\n",
    "4 + spam*3\n",
    "# Traceback (most recent call last):\n",
    "#   File \"<stdin>\", line 1, in <module>NameError: name 'spam' is not defined\n",
    "\n",
    "'2' + 2\n",
    "# Traceback (most recent call last):\n",
    "#   File \"<stdin>\", line 1, in <module>TypeError: Can't convert 'int' object to str implicitly\n",
    "```\n",
    "\n",
    "\n",
    "2. 完成一個程式，需滿足下列需求：\n",
    "    \n",
    "    * 下載指定檔案到 Data 資料夾，存成檔名 Homework.txt (檔案網址：https://www.w3.org/TR/PNG/iso_8859-1.txt )\n",
    "    * 將 Homework.txt 檔案讀取到程式內並且計算字數\n",
    "\n",
    "\n",
    "\n",
    "\n",
    "\n"
   ]
  },
  {
   "cell_type": "markdown",
   "metadata": {
    "colab_type": "text",
    "id": "uXGll28asvFS"
   },
   "source": [
    "# 作業 "
   ]
  },
  {
   "cell_type": "markdown",
   "metadata": {},
   "source": [
    "### 1. 請判斷下列的這幾種錯誤訊息發生的原因為何？\n",
    "\n",
    "```\n",
    "10 * (1/0)\n",
    "# Traceback (most recent call last):\n",
    "#   File \"<stdin>\", line 1, in <module>ZeroDivisionError: division by zero\n",
    "\n",
    "4 + spam*3\n",
    "# Traceback (most recent call last):\n",
    "#   File \"<stdin>\", line 1, in <module>NameError: name 'spam' is not defined\n",
    "\n",
    "'2' + 2\n",
    "# Traceback (most recent call last):\n",
    "#   File \"<stdin>\", line 1, in <module>TypeError: Can't convert 'int' object to str implicitly\n",
    "```"
   ]
  },
  {
   "cell_type": "code",
   "execution_count": 4,
   "metadata": {
    "colab": {},
    "colab_type": "code",
    "id": "5QrYoyNWsvFS"
   },
   "outputs": [
    {
     "data": {
      "text/plain": [
       "\"\\nYour Code\\n\\n10 * (1/0)\\n1. 不能除以零無法處裡\\n\\n4 + spam*3\\n2. spam 變數沒有被定義\\n\\n'2' + 2\\n3. 無法將數字轉換為字串\\n\""
      ]
     },
     "execution_count": 4,
     "metadata": {},
     "output_type": "execute_result"
    }
   ],
   "source": [
    "'''\n",
    "Your Code\n",
    "\n",
    "10 * (1/0)\n",
    "1. 不能除以零無法處裡\n",
    "\n",
    "4 + spam*3\n",
    "2. spam 變數沒有被定義\n",
    "\n",
    "'2' + 2\n",
    "3. 無法將數字轉換為字串\n",
    "'''"
   ]
  },
  {
   "cell_type": "markdown",
   "metadata": {},
   "source": [
    "### 2. 完成一個程式，需滿足下列需求：\n",
    "    \n",
    "* 下載指定檔案到 Data 資料夾，存成檔名 Homework.txt (檔案網址：https://www.w3.org/TR/PNG/iso_8859-1.txt )\n",
    "* 將 Homework.txt 檔案讀取到程式內並且計算字數\n"
   ]
  },
  {
   "cell_type": "code",
   "execution_count": 5,
   "metadata": {
    "colab": {},
    "colab_type": "code",
    "id": "e1gVI0tvsvFY",
    "scrolled": false
   },
   "outputs": [
    {
     "name": "stdout",
     "output_type": "stream",
     "text": [
      "6121\n"
     ]
    }
   ],
   "source": [
    "# 根據需求引入正確的 Library\n",
    "\n",
    "from urllib.request import urlretrieve\n",
    "import os\n",
    "\n",
    "# 下載檔案到 Data 資料夾，存成檔名 Homework.txt\n",
    "\n",
    "try:\n",
    "    os.makedirs( './Data', exist_ok=True )\n",
    "    urlretrieve (\"https://www.w3.org/TR/PNG/iso_8859-1.txt\", \"./Data/Homework.txt\")\n",
    "except:\n",
    "    print('發生錯誤！')\n",
    "\n",
    "# 將 Homework.txt 檔案讀取到程式內並且計算字數\n",
    "  \n",
    "    \n",
    "'''\n",
    "Your Code\n",
    "'''\n",
    "with open(\"./Data/Homework.txt\",\"r\") as fn:\n",
    "    print(len(fn.read())) # 文章總字數\n"
   ]
  },
  {
   "cell_type": "code",
   "execution_count": null,
   "metadata": {},
   "outputs": [],
   "source": []
  }
 ],
 "metadata": {
  "colab": {
   "name": "Day_023_HW.ipynb",
   "provenance": []
  },
  "kernelspec": {
   "display_name": "Python 3",
   "language": "python",
   "name": "python3"
  },
  "language_info": {
   "codemirror_mode": {
    "name": "ipython",
    "version": 3
   },
   "file_extension": ".py",
   "mimetype": "text/x-python",
   "name": "python",
   "nbconvert_exporter": "python",
   "pygments_lexer": "ipython3",
   "version": "3.8.8"
  }
 },
 "nbformat": 4,
 "nbformat_minor": 1
}
