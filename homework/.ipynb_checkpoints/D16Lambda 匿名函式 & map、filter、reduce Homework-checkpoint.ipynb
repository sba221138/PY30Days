{
 "cells": [
  {
   "cell_type": "markdown",
   "metadata": {
    "colab_type": "text",
    "id": "P6xk2_jLsvFF"
   },
   "source": [
    "# [作業目標]\n",
    "\n",
    "\n",
    "1. 請根據給定的列表依序完成下列操作：\n",
    "\n",
    "    * 1. 利用 map 將原始資料四捨五入\n",
    "    * 2. 利用 filter 挑選出大於 30 的元素\n",
    "    * 3. 利用 reduce 計算總和\n",
    "\n",
    "\n",
    "2. 實作一個 map function，對一個 list 中的每個元素都做相同的操作\n",
    "\n",
    "    * Sample Input 1: L = [1,2,3,4,5,6], F = add1(n)\n",
    "    * Sample Output 1: [2,3,4,5,6,7]\n",
    "    * Sample Input 2: L = [2,3,4,5,6,7], F = isPrime(n)\n",
    "    * Sample Output 2: [True,True,False,True,False,True]\n",
    "\n"
   ]
  },
  {
   "cell_type": "markdown",
   "metadata": {
    "colab_type": "text",
    "id": "uXGll28asvFS"
   },
   "source": [
    "# 作業 "
   ]
  },
  {
   "cell_type": "markdown",
   "metadata": {},
   "source": [
    "### 1. 請根據給定的列表依序完成下咧操作：\n",
    "\n",
    "* 1. 利用 map 將原始資料四捨五入\n",
    "* 2. 利用 filter 挑選出大於 30 的元素\n",
    "* 3. 利用 reduce 計算總和"
   ]
  },
  {
   "cell_type": "code",
   "execution_count": 4,
   "metadata": {},
   "outputs": [
    {
     "name": "stdout",
     "output_type": "stream",
     "text": [
      "L1 [7, 10, 4, 56, 9, 44]\n",
      "L2 [56.2424, 44.00013]\n",
      "L3 129.44497\n"
     ]
    }
   ],
   "source": [
    "L = [6.6, 9.58, 4.009, 56.2424, 9.01344, 44.00013]\n",
    "\n",
    "\n",
    "'''\n",
    "Your Code\n",
    "'''\n",
    "# 1.利用 map 將原始資料四捨五入\n",
    "L1 = list(map(round,L))\n",
    "print(\"L1\", L1)\n",
    "# 2. 利用 filter 挑選出大於 30 的元素\n",
    "over30 = lambda x : x>30\n",
    "L2 = list(filter(over30,L))\n",
    "print(\"L2\", L2)\n",
    "# 3. 利用 reduce 計算總和\n",
    "from functools import reduce\n",
    "Add = lambda x, y: x+y\n",
    "L3 = reduce(Add,L)\n",
    "print(\"L3\", L3)"
   ]
  },
  {
   "cell_type": "markdown",
   "metadata": {},
   "source": [
    "### 2. 實作一個 map function，對一個 list 中的每個元素都做相同的操作\n",
    "\n",
    "* Sample Input 1: L = [1,2,3,4,5,6], F = add1(n)\n",
    "* Sample Output 1:  [2,3,4,5,6,7]\n",
    "* Sample Input 2: L = [2,3,4,5,6,7], F = isPrime(n)\n",
    "* Sample Output 2: [True,True,False,True,False,True]"
   ]
  },
  {
   "cell_type": "code",
   "execution_count": 6,
   "metadata": {},
   "outputs": [
    {
     "name": "stdout",
     "output_type": "stream",
     "text": [
      "add1 [2, 3, 4, 5, 6, 7]\n",
      "isprime [True, True, False, True, False, True]\n"
     ]
    }
   ],
   "source": [
    "def add1(n):\n",
    "    return n+1\n",
    "\n",
    "def isPrime(n):\n",
    "    for i in range(2, int(n**0.5)+1):\n",
    "        if n % i == 0:\n",
    "            return False\n",
    "    return True\n",
    "\n",
    "'''\n",
    "Your Code\n",
    "'''\n",
    "L1 = [1,2,3,4,5,6]\n",
    "print(\"add1\",list(map(add1, L1)))\n",
    "\n",
    "L2 = [2,3,4,5,6,7]\n",
    "print(\"isprime\",list(map(isPrime,L2)))"
   ]
  },
  {
   "cell_type": "code",
   "execution_count": null,
   "metadata": {},
   "outputs": [],
   "source": []
  }
 ],
 "metadata": {
  "colab": {
   "name": "Day_023_HW.ipynb",
   "provenance": []
  },
  "kernelspec": {
   "display_name": "Python 3",
   "language": "python",
   "name": "python3"
  },
  "language_info": {
   "codemirror_mode": {
    "name": "ipython",
    "version": 3
   },
   "file_extension": ".py",
   "mimetype": "text/x-python",
   "name": "python",
   "nbconvert_exporter": "python",
   "pygments_lexer": "ipython3",
   "version": "3.8.8"
  }
 },
 "nbformat": 4,
 "nbformat_minor": 1
}
