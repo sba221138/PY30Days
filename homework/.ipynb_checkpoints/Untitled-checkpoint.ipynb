{
 "cells": [
  {
   "cell_type": "code",
   "execution_count": 15,
   "id": "0a9fd2b1",
   "metadata": {
    "scrolled": true
   },
   "outputs": [
    {
     "name": "stdout",
     "output_type": "stream",
     "text": [
      "1. 這是測試 \n",
      "\n",
      "2. 這是測試\n",
      "\n",
      "3. 這是測試\n",
      "\n",
      "4. 這是測試\n",
      "\n",
      "5. 這是測試\n",
      "\n",
      "6. 這是測試\n",
      "\n",
      "7. 這是測試\n",
      "\n",
      "8. 這是測試\n",
      "\n",
      "9. 這是測試\n",
      "\n",
      "10. 這是測試\n"
     ]
    }
   ],
   "source": [
    "f = open(\"test.txt\", \"r\",encoding = \"utf-8\")\n",
    "\n",
    "# print(f.read())\n",
    "# print(f.readline())\n",
    "\n",
    "for line in f.readlines():\n",
    "    print(line)\n",
    "\n",
    "f.close()"
   ]
  },
  {
   "cell_type": "code",
   "execution_count": 20,
   "id": "a2d00f9b",
   "metadata": {},
   "outputs": [],
   "source": [
    "fh = open(\"example.txt\",\"w\",encoding = \"utf-8\")\n",
    "\n",
    "s= \"Hello World\"\n",
    "\n",
    "fh.write(s)\n",
    "\n",
    "seq = [\"Hello\",\"\",\"World\"]\n",
    "fh.writelines(seq)\n",
    "\n",
    "fh.close()"
   ]
  },
  {
   "cell_type": "code",
   "execution_count": 22,
   "id": "415be433",
   "metadata": {},
   "outputs": [
    {
     "name": "stdout",
     "output_type": "stream",
     "text": [
      "Hello WorldHelloWorld\n"
     ]
    }
   ],
   "source": [
    "fh = open(\"example.txt\",\"r\",encoding = \"utf-8\")\n",
    "print(fh.readline())"
   ]
  },
  {
   "cell_type": "code",
   "execution_count": null,
   "id": "d4345ca9",
   "metadata": {},
   "outputs": [],
   "source": [
    "try:\n",
    "    x = input(\"the first number: \")\n",
    "    y = input(\"the second number: \")\n",
    "    r = float(x)/float(y)\n",
    "    print(r)\n",
    "except Exception as e:\n",
    "    print(e)"
   ]
  }
 ],
 "metadata": {
  "kernelspec": {
   "display_name": "Python 3",
   "language": "python",
   "name": "python3"
  },
  "language_info": {
   "codemirror_mode": {
    "name": "ipython",
    "version": 3
   },
   "file_extension": ".py",
   "mimetype": "text/x-python",
   "name": "python",
   "nbconvert_exporter": "python",
   "pygments_lexer": "ipython3",
   "version": "3.8.8"
  }
 },
 "nbformat": 4,
 "nbformat_minor": 5
}
