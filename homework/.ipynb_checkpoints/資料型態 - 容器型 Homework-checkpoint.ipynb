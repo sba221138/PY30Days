{
 "cells": [
  {
   "cell_type": "markdown",
   "metadata": {
    "colab_type": "text",
    "id": "P6xk2_jLsvFF"
   },
   "source": [
    "# [作業目標]\n",
    "\n",
    "1. 有一個列表，其中包括 10 個元素，例如這個列表是 [1, 2, 3, 4, 5, 6, 7, 8, 9, 0]，要求將最左邊的 1 移到最右邊，結果會變成 [2, 3, 4, 5, 6, 7, 8, 9, 0, 1].\n",
    "\n",
    "\n",
    "2. Write a Python program to concatenate following dictionaries to create a new one.\n",
    "\n"
   ]
  },
  {
   "cell_type": "markdown",
   "metadata": {
    "colab_type": "text",
    "id": "uXGll28asvFS"
   },
   "source": [
    "# 作業 "
   ]
  },
  {
   "cell_type": "markdown",
   "metadata": {},
   "source": [
    "### 1. 有一個列表，其中包括 10 個元素，例如這個列表是 [1, 2, 3, 4, 5, 6, 7, 8, 9, 0]，要求將最左邊的 1 移到最右邊，結果會變成 [2, 3, 4, 5, 6, 7, 8, 9, 0, 1].\n",
    "\n",
    "\n"
   ]
  },
  {
   "cell_type": "code",
   "execution_count": 3,
   "metadata": {
    "colab": {},
    "colab_type": "code",
    "id": "5QrYoyNWsvFS"
   },
   "outputs": [
    {
     "name": "stdout",
     "output_type": "stream",
     "text": [
      "[2, 3, 4, 5, 6, 7, 8, 9, 0, 1]\n"
     ]
    }
   ],
   "source": [
    "'''\n",
    "Your Code\n",
    "'''\n",
    "\n",
    "L = [1,2,3,4,5,6,7,8,9,0]\n",
    "L.remove(1)\n",
    "L.append(1)\n",
    "print(L)"
   ]
  },
  {
   "cell_type": "markdown",
   "metadata": {},
   "source": [
    "### 2. Write a Python program to concatenate following dictionaries to create a new one.\n"
   ]
  },
  {
   "cell_type": "code",
   "execution_count": 16,
   "metadata": {
    "colab": {},
    "colab_type": "code",
    "id": "e1gVI0tvsvFY",
    "scrolled": false
   },
   "outputs": [
    {
     "name": "stdout",
     "output_type": "stream",
     "text": [
      "(1, 10) (2, 20)\n",
      "(3, 30) (4, 40)\n",
      "(5, 50) (6, 60)\n",
      "{(1, 10): (2, 20), (3, 30): (4, 40), (5, 50): (6, 60)}\n"
     ]
    }
   ],
   "source": [
    "dic1 = {1:10, 2:20}\n",
    "dic2 = {3:30, 4:40}\n",
    "dic3 = {5:50, 6:60}\n",
    "\n",
    "'''\n",
    "Your Code\n",
    "'''\n",
    "\n",
    "# dic1_keys = list(dic1.keys())\n",
    "# print(dic1_keys)\n",
    "# dic1_values = list(dic1.values())\n",
    "# print(dic1_values)\n",
    "\n",
    "dic_all = dict()\n",
    "for k,v in [dic1.items(),dic2.items(),dic3.items()]:\n",
    "#     print(k,v)\n",
    "    dic_all.setdefault(k,v)\n",
    "print(dic_all)\n",
    "# Output: {1: 10, 2: 20, 3: 30, 4: 40, 5: 50, 6: 60}"
   ]
  },
  {
   "cell_type": "code",
   "execution_count": null,
   "metadata": {},
   "outputs": [],
   "source": []
  },
  {
   "cell_type": "code",
   "execution_count": null,
   "metadata": {},
   "outputs": [],
   "source": []
  }
 ],
 "metadata": {
  "colab": {
   "name": "Day_023_HW.ipynb",
   "provenance": []
  },
  "kernelspec": {
   "display_name": "Python 3",
   "language": "python",
   "name": "python3"
  },
  "language_info": {
   "codemirror_mode": {
    "name": "ipython",
    "version": 3
   },
   "file_extension": ".py",
   "mimetype": "text/x-python",
   "name": "python",
   "nbconvert_exporter": "python",
   "pygments_lexer": "ipython3",
   "version": "3.8.8"
  }
 },
 "nbformat": 4,
 "nbformat_minor": 1
}
