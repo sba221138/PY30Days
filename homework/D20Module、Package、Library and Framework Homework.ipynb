{
 "cells": [
  {
   "cell_type": "markdown",
   "metadata": {
    "colab_type": "text",
    "id": "P6xk2_jLsvFF"
   },
   "source": [
    "# [作業目標]\n",
    "\n",
    "\n",
    "1. [簡答題] 各別一句話解釋「Module」, 「Package」, 「Library」, 「Framework」。\n",
    "\n",
    "2. [簡答題] 分享你有使用過什麼 Library 或 Framwork。\n",
    "\n"
   ]
  },
  {
   "cell_type": "markdown",
   "metadata": {
    "colab_type": "text",
    "id": "uXGll28asvFS"
   },
   "source": [
    "# 作業 "
   ]
  },
  {
   "cell_type": "markdown",
   "metadata": {},
   "source": [
    "### 1. [簡答題] 各別一句話解釋「Module」, 「Package」, 「Library」, 「Framework」。\n"
   ]
  },
  {
   "cell_type": "markdown",
   "metadata": {},
   "source": [
    "#### module \n",
    "在 Python 中一個 py 檔代表一個 module，而 module 是由類別、函式、變數所構成：\n",
    "\n",
    "#### package\n",
    "Package 是由多個 module 組合起來的，並在資料夾底下擁有名為 __init__.py 檔案則python直譯器會將資料夾視為 package\n",
    "\n",
    "#### Library\n",
    "Library 是由多個 package 所組成的函式庫，重複使用程式碼執行相關任務是其核心目標\n",
    "\n",
    "#### Framework\n",
    "Framework 是由多個 library 所組成的為執行某任務的半個應用程式，有其程式架構。"
   ]
  },
  {
   "cell_type": "markdown",
   "metadata": {},
   "source": [
    "### 2. [簡答題] 分享你有使用過什麼 Library 或 Framwork。"
   ]
  },
  {
   "cell_type": "markdown",
   "metadata": {},
   "source": [
    "numpy、pandas、PIL、urllib"
   ]
  },
  {
   "cell_type": "code",
   "execution_count": null,
   "metadata": {},
   "outputs": [],
   "source": []
  }
 ],
 "metadata": {
  "colab": {
   "name": "Day_023_HW.ipynb",
   "provenance": []
  },
  "kernelspec": {
   "display_name": "Python 3",
   "language": "python",
   "name": "python3"
  },
  "language_info": {
   "codemirror_mode": {
    "name": "ipython",
    "version": 3
   },
   "file_extension": ".py",
   "mimetype": "text/x-python",
   "name": "python",
   "nbconvert_exporter": "python",
   "pygments_lexer": "ipython3",
   "version": "3.8.8"
  }
 },
 "nbformat": 4,
 "nbformat_minor": 1
}
