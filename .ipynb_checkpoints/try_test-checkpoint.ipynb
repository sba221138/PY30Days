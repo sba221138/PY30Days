{
 "cells": [
  {
   "cell_type": "code",
   "execution_count": 1,
   "id": "94cb84e2",
   "metadata": {},
   "outputs": [],
   "source": [
    "L = [1, 2, 3, 4]\n",
    "G = [3, 4, 5, 6]"
   ]
  },
  {
   "cell_type": "code",
   "execution_count": 2,
   "id": "a4cbdda2",
   "metadata": {},
   "outputs": [
    {
     "name": "stdout",
     "output_type": "stream",
     "text": [
      "[1, 2, 3, 4, 3, 4, 5, 6]\n",
      "[1, 2, 3, 4, 1, 2, 3, 4]\n"
     ]
    }
   ],
   "source": [
    "print(L + G) # [1, 2, 3, 3, 4, 5]\n",
    "print(L * 2) # [1, 2, 3, 1, 2, 3]"
   ]
  },
  {
   "cell_type": "code",
   "execution_count": 7,
   "id": "cd0383b0",
   "metadata": {},
   "outputs": [
    {
     "data": {
      "text/plain": [
       "['h', 'l', 'o']"
      ]
     },
     "execution_count": 7,
     "metadata": {},
     "output_type": "execute_result"
    }
   ],
   "source": [
    "s = ['h', 'e', 'l', 'l', 'o']\n",
    " \n",
    "# s[0:5] # ['h', 'e', 'l', 'l', 'o']\n",
    "s[0:5:2] # ['h', 'l']"
   ]
  },
  {
   "cell_type": "code",
   "execution_count": 8,
   "id": "762544cf",
   "metadata": {},
   "outputs": [],
   "source": [
    "L = list() # [ ] \n",
    "\n",
    "L.append(1) # [1]\n",
    "# L.extend([2, 3]) # [1, 2, 3]\n",
    "# L.insert(0, 999) # [999, 1, 2, 3]"
   ]
  },
  {
   "cell_type": "code",
   "execution_count": 9,
   "id": "73671b4f",
   "metadata": {},
   "outputs": [
    {
     "name": "stdout",
     "output_type": "stream",
     "text": [
      "[1]\n"
     ]
    }
   ],
   "source": [
    "print(L)"
   ]
  },
  {
   "cell_type": "code",
   "execution_count": 10,
   "id": "ef295996",
   "metadata": {},
   "outputs": [],
   "source": [
    "L.extend([4, 3]) # [1, 2, 3]"
   ]
  },
  {
   "cell_type": "code",
   "execution_count": 11,
   "id": "04c5f2d0",
   "metadata": {},
   "outputs": [
    {
     "data": {
      "text/plain": [
       "[1, 4, 3]"
      ]
     },
     "execution_count": 11,
     "metadata": {},
     "output_type": "execute_result"
    }
   ],
   "source": [
    "L"
   ]
  },
  {
   "cell_type": "code",
   "execution_count": 12,
   "id": "7158eb04",
   "metadata": {},
   "outputs": [],
   "source": [
    "L.insert(0, 999) # [999, 1, 2, 3]"
   ]
  },
  {
   "cell_type": "code",
   "execution_count": 13,
   "id": "8997a4f6",
   "metadata": {},
   "outputs": [
    {
     "name": "stdout",
     "output_type": "stream",
     "text": [
      "[999, 1, 4, 3]\n"
     ]
    }
   ],
   "source": [
    "print(L)"
   ]
  },
  {
   "cell_type": "code",
   "execution_count": 14,
   "id": "6cf27890",
   "metadata": {},
   "outputs": [],
   "source": [
    "L.insert(1, 900) # [999, 1, 2, 3]"
   ]
  },
  {
   "cell_type": "code",
   "execution_count": 15,
   "id": "0f81e4e3",
   "metadata": {},
   "outputs": [
    {
     "data": {
      "text/plain": [
       "[999, 900, 1, 4, 3]"
      ]
     },
     "execution_count": 15,
     "metadata": {},
     "output_type": "execute_result"
    }
   ],
   "source": [
    "L"
   ]
  },
  {
   "cell_type": "code",
   "execution_count": 16,
   "id": "8be7c836",
   "metadata": {},
   "outputs": [],
   "source": [
    "L.insert(4, 90) # [999, 1, 2, 3]"
   ]
  },
  {
   "cell_type": "code",
   "execution_count": 17,
   "id": "814e4089",
   "metadata": {},
   "outputs": [
    {
     "data": {
      "text/plain": [
       "[999, 900, 1, 4, 90, 3]"
      ]
     },
     "execution_count": 17,
     "metadata": {},
     "output_type": "execute_result"
    }
   ],
   "source": [
    "L"
   ]
  },
  {
   "cell_type": "code",
   "execution_count": 18,
   "id": "7bfbe4e1",
   "metadata": {},
   "outputs": [],
   "source": [
    "L.insert(6, 0) # [999, 1, 2, 3]"
   ]
  },
  {
   "cell_type": "code",
   "execution_count": 19,
   "id": "9a837c0a",
   "metadata": {},
   "outputs": [
    {
     "data": {
      "text/plain": [
       "[999, 900, 1, 4, 90, 3, 0]"
      ]
     },
     "execution_count": 19,
     "metadata": {},
     "output_type": "execute_result"
    }
   ],
   "source": [
    "L"
   ]
  },
  {
   "cell_type": "code",
   "execution_count": 20,
   "id": "f1df0a1d",
   "metadata": {},
   "outputs": [],
   "source": [
    "L.insert(8, 10) # [999, 1, 2, 3]"
   ]
  },
  {
   "cell_type": "code",
   "execution_count": 21,
   "id": "76dcf0d0",
   "metadata": {},
   "outputs": [
    {
     "data": {
      "text/plain": [
       "[999, 900, 1, 4, 90, 3, 0, 10]"
      ]
     },
     "execution_count": 21,
     "metadata": {},
     "output_type": "execute_result"
    }
   ],
   "source": [
    "L"
   ]
  },
  {
   "cell_type": "code",
   "execution_count": 22,
   "id": "2ab94095",
   "metadata": {},
   "outputs": [
    {
     "data": {
      "text/plain": [
       "10"
      ]
     },
     "execution_count": 22,
     "metadata": {},
     "output_type": "execute_result"
    }
   ],
   "source": [
    "L.pop()"
   ]
  },
  {
   "cell_type": "code",
   "execution_count": 23,
   "id": "8b3b5a2d",
   "metadata": {},
   "outputs": [
    {
     "data": {
      "text/plain": [
       "[999, 900, 1, 4, 90, 3, 0]"
      ]
     },
     "execution_count": 23,
     "metadata": {},
     "output_type": "execute_result"
    }
   ],
   "source": [
    "L"
   ]
  },
  {
   "cell_type": "code",
   "execution_count": 25,
   "id": "3014f05b",
   "metadata": {},
   "outputs": [],
   "source": [
    "L.remove(4)"
   ]
  },
  {
   "cell_type": "code",
   "execution_count": 26,
   "id": "76a9baf0",
   "metadata": {},
   "outputs": [
    {
     "data": {
      "text/plain": [
       "[999, 900, 1, 90, 3, 0]"
      ]
     },
     "execution_count": 26,
     "metadata": {},
     "output_type": "execute_result"
    }
   ],
   "source": [
    "L"
   ]
  },
  {
   "cell_type": "code",
   "execution_count": null,
   "id": "83a715e7",
   "metadata": {},
   "outputs": [],
   "source": []
  }
 ],
 "metadata": {
  "kernelspec": {
   "display_name": "Python 3",
   "language": "python",
   "name": "python3"
  },
  "language_info": {
   "codemirror_mode": {
    "name": "ipython",
    "version": 3
   },
   "file_extension": ".py",
   "mimetype": "text/x-python",
   "name": "python",
   "nbconvert_exporter": "python",
   "pygments_lexer": "ipython3",
   "version": "3.8.8"
  }
 },
 "nbformat": 4,
 "nbformat_minor": 5
}
